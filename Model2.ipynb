{
 "cells": [
  {
   "cell_type": "code",
   "execution_count": null,
   "id": "e0ace517",
   "metadata": {},
   "outputs": [],
   "source": [
    "print(\"This is model 2 which will be specifically for a blockchain graph!!!\")\n"
   ]
  }
 ],
 "metadata": {
  "language_info": {
   "name": "python"
  }
 },
 "nbformat": 4,
 "nbformat_minor": 5
}
